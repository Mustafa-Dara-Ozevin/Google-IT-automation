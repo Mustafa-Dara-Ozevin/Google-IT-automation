def calculate_frequencies(file_contents):
    # Here is a list of punctuations and uninteresting words you can use to process your text
    punctuations = '''!()-[]{};:'"\,<>./?@#$%^&*_~'''
    uninteresting_words = ["the", "a", "to", "if", "is", "it", "of", "and", "or", "an", "as", "i", "me", "my", \
    "we", "our", "ours", "you", "your", "yours", "he", "she", "him", "his", "her", "hers", "its", "they", "them", \
    "their", "what", "which", "who", "whom", "this", "that", "am", "are", "was", "were", "be", "been", "being", \
    "have", "has", "had", "do", "does", "did", "but", "at", "by", "with", "from", "here", "when", "where", "how", \
    "all", "any", "both", "each", "few", "more", "some", "such", "no", "nor", "too", "very", "can", "will", "just",\
    'for','so','on','not','in','About','one','about','own','would','up','said','went','us','there','then']
    
    # LEARNER CODE START
    frequencies = {}
    for text in file_contents.split(' '):
        if text.isalpha() and not text.lower() in uninteresting_words:
            if text in frequencies:
                frequencies.update({text : frequencies[text]+1})
            else:
                frequencies.update({text: 1})
    
    
    #wordcloud
    cloud = wordcloud.WordCloud()
    cloud.generate_from_frequencies(frequencies)
    return cloud.to_array()